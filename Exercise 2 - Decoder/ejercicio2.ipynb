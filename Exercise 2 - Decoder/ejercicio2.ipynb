{
 "cells": [
  {
   "cell_type": "code",
   "execution_count": 1,
   "id": "643d36e2",
   "metadata": {},
   "outputs": [],
   "source": [
    "import numpy as np\n",
    "import torch"
   ]
  },
  {
   "cell_type": "code",
   "execution_count": 2,
   "id": "86bdfb1b",
   "metadata": {},
   "outputs": [
    {
     "data": {
      "text/plain": [
       "tensor([[0.1029, 0.1029, 0.1029, 0.6758, 0.0157],\n",
       "        [0.1878, 0.1878, 0.1878, 0.1070, 0.3296],\n",
       "        [0.0934, 0.0934, 0.0934, 0.7075, 0.0123]], dtype=torch.float64)"
      ]
     },
     "execution_count": 2,
     "metadata": {},
     "output_type": "execute_result"
    }
   ],
   "source": [
    "x1 = np.array([2, 0])  # THE\n",
    "x2 = np.array([-2, 0])  # CAT\n",
    "x3 = np.array([0, 0])  # SLEEPS\n",
    "\n",
    "version = \"1\" # \"2\"\n",
    "\n",
    "if version == \"1\":\n",
    "    p1 = np.array([np.sin(0), np.cos(0)])  # THE\n",
    "    p2 = np.array([np.sin(1), np.cos(1)])  # CAT\n",
    "    p3 = np.array([np.sin(2), np.cos(2)])  # SLEEPS\n",
    "    X = np.stack([x1+p1, x2+p2, x3+p3], axis=0)\n",
    "else:\n",
    "    p1 = np.array([np.sin(1), np.cos(1)])  # THE\n",
    "    p2 = np.array([np.sin(0), np.cos(0)])  # CAT\n",
    "    p3 = np.array([np.sin(2), np.cos(2)])  # SLEEPS\n",
    "    X = np.stack([x2+p2, x1+p1, x3+p3], axis=0)\n",
    "\n",
    "W_Q = np.array([[0, 0], [0, 1]])\n",
    "W_K = np.array([[0, 0], [0, -5]])\n",
    "W_V = np.array([[1, 0], [0, 0]])\n",
    "W_O = np.array([[1, 0], [0, 0]])\n",
    "W_U = np.array([[0, 0, 0, 1, -1], [0, 0, 0, 0, 0]])\n",
    "\n",
    "Q = X @ W_Q\n",
    "K = X @ W_K\n",
    "V = X @ W_V\n",
    "S = Q @ K.T\n",
    "\n",
    "mask = np.tril(np.ones_like(S))\n",
    "A = torch.softmax(torch.tensor(S) * torch.tensor(mask).float(), dim=1).numpy()\n",
    "Z = A @ V\n",
    "H = X + Z @ W_O\n",
    "pred = torch.softmax(torch.tensor(H @ W_U), dim=1)\n",
    "pred"
   ]
  },
  {
   "cell_type": "code",
   "execution_count": 3,
   "id": "365d7054",
   "metadata": {},
   "outputs": [
    {
     "name": "stderr",
     "output_type": "stream",
     "text": [
      "C:\\Users\\jorge\\AppData\\Local\\Temp\\ipykernel_52960\\494705443.py:1: UserWarning: Creating a tensor from a list of numpy.ndarrays is extremely slow. Please consider converting the list to a single numpy.ndarray with numpy.array() before converting to a tensor. (Triggered internally at C:\\actions-runner\\_work\\pytorch\\pytorch\\pytorch\\torch\\csrc\\utils\\tensor_new.cpp:257.)\n",
      "  torch.tensor([p1, p2, p3])\n"
     ]
    },
    {
     "data": {
      "text/plain": [
       "tensor([[ 0.0000,  1.0000],\n",
       "        [ 0.8415,  0.5403],\n",
       "        [ 0.9093, -0.4161]], dtype=torch.float64)"
      ]
     },
     "execution_count": 3,
     "metadata": {},
     "output_type": "execute_result"
    }
   ],
   "source": [
    "torch.tensor([p1, p2, p3])"
   ]
  }
 ],
 "metadata": {
  "kernelspec": {
   "display_name": "base",
   "language": "python",
   "name": "python3"
  },
  "language_info": {
   "codemirror_mode": {
    "name": "ipython",
    "version": 3
   },
   "file_extension": ".py",
   "mimetype": "text/x-python",
   "name": "python",
   "nbconvert_exporter": "python",
   "pygments_lexer": "ipython3",
   "version": "3.11.5"
  }
 },
 "nbformat": 4,
 "nbformat_minor": 5
}
